{
  "nbformat": 4,
  "nbformat_minor": 0,
  "metadata": {
    "colab": {
      "provenance": [],
      "authorship_tag": "ABX9TyMJrpJ18Na3j9P2t+Jak0Cd",
      "include_colab_link": true
    },
    "kernelspec": {
      "name": "python3",
      "display_name": "Python 3"
    },
    "language_info": {
      "name": "python"
    }
  },
  "cells": [
    {
      "cell_type": "markdown",
      "metadata": {
        "id": "view-in-github",
        "colab_type": "text"
      },
      "source": [
        "<a href=\"https://colab.research.google.com/github/DishaT-10/Java-file/blob/main/python_lab.ipynb\" target=\"_parent\"><img src=\"https://colab.research.google.com/assets/colab-badge.svg\" alt=\"Open In Colab\"/></a>"
      ]
    },
    {
      "cell_type": "code",
      "execution_count": null,
      "metadata": {
        "colab": {
          "base_uri": "https://localhost:8080/"
        },
        "id": "WIMbutb1--2z",
        "outputId": "1d106a17-2085-4e2e-9b28-4e698b2e61fb"
      },
      "outputs": [
        {
          "output_type": "stream",
          "name": "stdout",
          "text": [
            "Hello,world!\n"
          ]
        }
      ],
      "source": [
        "print(\"Hello,world!\")"
      ]
    },
    {
      "cell_type": "code",
      "source": [
        "a=10\n",
        "a\n",
        "print(type(a))\n",
        "\n"
      ],
      "metadata": {
        "colab": {
          "base_uri": "https://localhost:8080/"
        },
        "id": "ZMnuvDQI_-b6",
        "outputId": "f57e1dc8-8e5d-45c5-96e6-f83e04442470"
      },
      "execution_count": null,
      "outputs": [
        {
          "output_type": "stream",
          "name": "stdout",
          "text": [
            "<class 'int'>\n"
          ]
        }
      ]
    },
    {
      "cell_type": "code",
      "source": [
        "a=int(input(\"enter a number\"))\n",
        "if(a%2==0):\n",
        "    print(\"even\")\n",
        "else:\n",
        "     print(\"odd\")\n",
        "\n"
      ],
      "metadata": {
        "colab": {
          "base_uri": "https://localhost:8080/"
        },
        "id": "LaM-YcQbA_fZ",
        "outputId": "670880fe-16ca-4218-86d5-bde9f3404cc1"
      },
      "execution_count": null,
      "outputs": [
        {
          "output_type": "stream",
          "name": "stdout",
          "text": [
            "enter a number13\n",
            "odd\n"
          ]
        }
      ]
    },
    {
      "cell_type": "code",
      "source": [
        "a=int(input(\"enter a number\"))\n",
        "if(a>0):\n",
        "  print(\"positive\")\n",
        "else:\n",
        "  print(\"negative\")"
      ],
      "metadata": {
        "colab": {
          "base_uri": "https://localhost:8080/"
        },
        "id": "3Zrq1NfBEVJx",
        "outputId": "b8f2abfb-8921-4d0c-93b2-03a9c4f9ed40"
      },
      "execution_count": null,
      "outputs": [
        {
          "output_type": "stream",
          "name": "stdout",
          "text": [
            "enter a number-3\n",
            "negative\n"
          ]
        }
      ]
    },
    {
      "cell_type": "code",
      "source": [
        "a=int(input(\"enter first number\"))\n",
        "b=int(input(\"enter second number\"))\n",
        "print (a+b)"
      ],
      "metadata": {
        "colab": {
          "base_uri": "https://localhost:8080/"
        },
        "id": "vLshX9NqFSDB",
        "outputId": "79611b9c-4ffb-4772-a2fd-3a7dd392c432"
      },
      "execution_count": null,
      "outputs": [
        {
          "output_type": "stream",
          "name": "stdout",
          "text": [
            "enter first number5\n",
            "enter second number10\n",
            "15\n"
          ]
        }
      ]
    },
    {
      "cell_type": "code",
      "source": [
        "a=int(input(\"enter first number\"))\n",
        "b=int(input(\"enter second number\"))\n",
        "\n",
        "max(a,b)\n",
        "print(max)\n"
      ],
      "metadata": {
        "colab": {
          "base_uri": "https://localhost:8080/"
        },
        "id": "kmh3WY0rGWjq",
        "outputId": "a62ec777-9183-41e4-d2f7-54ea06682113"
      },
      "execution_count": null,
      "outputs": [
        {
          "output_type": "stream",
          "name": "stdout",
          "text": [
            "enter first number3\n",
            "enter second number5\n",
            "<built-in function max>\n"
          ]
        }
      ]
    },
    {
      "cell_type": "code",
      "source": [
        "p=100\n",
        "r=12\n",
        "t=20\n",
        "si=(p*r*t)/100\n",
        "print(si)"
      ],
      "metadata": {
        "colab": {
          "base_uri": "https://localhost:8080/"
        },
        "id": "DBr5iHSEG_9a",
        "outputId": "b63e931f-7390-4249-e7c2-8c07650aa555"
      },
      "execution_count": null,
      "outputs": [
        {
          "output_type": "stream",
          "name": "stdout",
          "text": [
            "240.0\n"
          ]
        }
      ]
    },
    {
      "cell_type": "code",
      "source": [
        "pi=2.14\n",
        "r=int(input(\"enter radius\"))\n",
        "area=pi*r*r\n",
        "print(area)"
      ],
      "metadata": {
        "colab": {
          "base_uri": "https://localhost:8080/"
        },
        "id": "ErFFjE_tHZu6",
        "outputId": "22e46afa-49a4-4925-be31-60cb94c13286"
      },
      "execution_count": null,
      "outputs": [
        {
          "output_type": "stream",
          "name": "stdout",
          "text": [
            "enter radius5\n",
            "53.50000000000001\n"
          ]
        }
      ]
    },
    {
      "cell_type": "code",
      "source": [
        "a = int(input(\"Enter first number (a): \"))\n",
        "b = int(input(\"Enter second number (b): \"))\n",
        "\n",
        "print(\"Before swapping: a =\", a, \"b =\", b)\n",
        "\n",
        "temp = a\n",
        "a = b\n",
        "b = temp\n",
        "\n",
        "print(\"After swapping: a =\", a, \"b =\", b)\n"
      ],
      "metadata": {
        "colab": {
          "base_uri": "https://localhost:8080/"
        },
        "id": "dTru07TTQAKF",
        "outputId": "e2418df6-9676-42b4-e0e9-67eb2ab9937e"
      },
      "execution_count": null,
      "outputs": [
        {
          "output_type": "stream",
          "name": "stdout",
          "text": [
            "Enter first number (a): 5\n",
            "Enter second number (b): 2\n",
            "Before swapping: a = 5 b = 2\n",
            "After swapping: a = 2 b = 5\n"
          ]
        }
      ]
    },
    {
      "cell_type": "code",
      "source": [
        "num = int(input(\"Enter a number: \"))\n",
        "\n",
        "for i in range(1, 11):\n",
        "    print(num, \"x\", i, \"=\", num * i)\n"
      ],
      "metadata": {
        "colab": {
          "base_uri": "https://localhost:8080/"
        },
        "id": "lCkvSAurQjuk",
        "outputId": "44a5a451-1222-4705-d247-e308f0cda1fb"
      },
      "execution_count": null,
      "outputs": [
        {
          "output_type": "stream",
          "name": "stdout",
          "text": [
            "Enter a number: 3\n",
            "3 x 1 = 3\n",
            "3 x 2 = 6\n",
            "3 x 3 = 9\n",
            "3 x 4 = 12\n",
            "3 x 5 = 15\n",
            "3 x 6 = 18\n",
            "3 x 7 = 21\n",
            "3 x 8 = 24\n",
            "3 x 9 = 27\n",
            "3 x 10 = 30\n"
          ]
        }
      ]
    },
    {
      "cell_type": "code",
      "source": [
        "num = int(input(\"Enter a number: \"))\n",
        "factorial = 1\n",
        "\n",
        "for i in range(1, num + 1):\n",
        "    factorial *= i\n",
        "\n",
        "print(\"Factorial of\", num, \"is\", factorial)\n"
      ],
      "metadata": {
        "colab": {
          "base_uri": "https://localhost:8080/"
        },
        "id": "bkXg66G7QsB0",
        "outputId": "86208bfc-0fda-426f-b739-ae23c0e1ab05"
      },
      "execution_count": null,
      "outputs": [
        {
          "output_type": "stream",
          "name": "stdout",
          "text": [
            "Enter a number: 4\n",
            "Factorial of 4 is 24\n"
          ]
        }
      ]
    },
    {
      "cell_type": "code",
      "source": [
        "text = input(\"Enter a string: \")\n",
        "vowels = \"aeiouAEIOU\"\n",
        "count = 0\n",
        "\n",
        "for char in text:\n",
        "    if char in vowels:\n",
        "        count += 1\n",
        "\n",
        "print(\"Number of vowels:\", count)\n"
      ],
      "metadata": {
        "colab": {
          "base_uri": "https://localhost:8080/"
        },
        "id": "QbCIKpPvQvTc",
        "outputId": "1299031f-5d8f-4f28-d817-d804a35a6d80"
      },
      "execution_count": null,
      "outputs": [
        {
          "output_type": "stream",
          "name": "stdout",
          "text": [
            "Enter a string: hello\n",
            "Number of vowels: 2\n"
          ]
        }
      ]
    },
    {
      "cell_type": "code",
      "source": [
        "s = input(\"Enter a string: \")\n",
        "if s == s[::-1]:\n",
        "    print(\"Palindrome\")\n",
        "else:\n",
        "    print(\"Not a palindrome\")\n"
      ],
      "metadata": {
        "colab": {
          "base_uri": "https://localhost:8080/"
        },
        "id": "wlCIvRq2Q4G8",
        "outputId": "7e50654c-1b6b-4ee6-84c9-825ec0f11945"
      },
      "execution_count": null,
      "outputs": [
        {
          "output_type": "stream",
          "name": "stdout",
          "text": [
            "Enter a string: hello\n",
            "Not a palindrome\n"
          ]
        }
      ]
    },
    {
      "cell_type": "code",
      "source": [
        "principal = float(input(\"Enter principal amount: \"))\n",
        "rate = float(input(\"Enter rate of interest (%): \"))\n",
        "time = float(input(\"Enter time (in years): \"))\n",
        "\n",
        "simple_interest = (principal * rate * time) / 100\n",
        "\n",
        "print(\"Simple Interest:\", simple_interest)\n"
      ],
      "metadata": {
        "colab": {
          "base_uri": "https://localhost:8080/"
        },
        "id": "ySjKKkZwRGZ0",
        "outputId": "37b83666-5b26-4570-e774-43a6767b7d08"
      },
      "execution_count": null,
      "outputs": [
        {
          "output_type": "stream",
          "name": "stdout",
          "text": [
            "Enter principal amount: 20\n",
            "Enter rate of interest (%): 5\n",
            "Enter time (in years): 1000\n",
            "Simple Interest: 1000.0\n"
          ]
        }
      ]
    },
    {
      "cell_type": "code",
      "source": [
        "import math\n",
        "\n",
        "radius = float(input(\"Enter the radius of the circle: \"))\n",
        "area = math.pi * radius ** 2\n",
        "\n",
        "print(\"Area of the circle:\", area)\n"
      ],
      "metadata": {
        "colab": {
          "base_uri": "https://localhost:8080/"
        },
        "id": "kpIX-lkIRIO0",
        "outputId": "688052f7-70dd-40dd-998c-9d1be4773c2c"
      },
      "execution_count": null,
      "outputs": [
        {
          "output_type": "stream",
          "name": "stdout",
          "text": [
            "Enter the radius of the circle: 5\n",
            "Area of the circle: 78.53981633974483\n"
          ]
        }
      ]
    },
    {
      "cell_type": "code",
      "source": [
        "n = 5\n",
        "\n",
        "for i in range(n):\n",
        "    num = 1\n",
        "    for j in range(i + 1):\n",
        "        print(num, end=\" \")\n",
        "        num = num * (i - j) // (j + 1)\n",
        "    print()\n"
      ],
      "metadata": {
        "colab": {
          "base_uri": "https://localhost:8080/"
        },
        "id": "ODSgBaCzRWI9",
        "outputId": "2bf651d9-2c08-40b3-d464-3d4fb16bc2ea"
      },
      "execution_count": null,
      "outputs": [
        {
          "output_type": "stream",
          "name": "stdout",
          "text": [
            "1 \n",
            "1 1 \n",
            "1 2 1 \n",
            "1 3 3 1 \n",
            "1 4 6 4 1 \n"
          ]
        }
      ]
    },
    {
      "cell_type": "code",
      "source": [
        "import math\n",
        "\n",
        "num = int(input(\"Enter a number: \"))\n",
        "\n",
        "hex_num = hex(num)\n",
        "oct_num = oct(num)\n",
        "\n",
        "sqrt_num = math.sqrt(num)\n",
        "\n",
        "print(f\"Hexadecimal equivalent: {hex_num}\")\n",
        "print(f\"Octal equivalent: {oct_num}\")\n",
        "print(f\"Square root: {sqrt_num}\")\n"
      ],
      "metadata": {
        "colab": {
          "base_uri": "https://localhost:8080/"
        },
        "id": "Suw5-p_jkO2b",
        "outputId": "b6ee7c3a-57c6-4625-8c53-f3ac402253e7"
      },
      "execution_count": null,
      "outputs": [
        {
          "output_type": "stream",
          "name": "stdout",
          "text": [
            "Enter a number: 3\n",
            "Hexadecimal equivalent: 0x3\n",
            "Octal equivalent: 0o3\n",
            "Square root: 1.7320508075688772\n"
          ]
        }
      ]
    },
    {
      "cell_type": "code",
      "source": [
        "int_var = int(input(\"Enter an integer: \"))\n",
        "float_var = float(input(\"Enter a float: \"))\n",
        "str_var = input(\"Enter a string: \")\n",
        "bool_input = input(\"Enter a boolean (True/False): \")\n",
        "bool_var = bool_input.lower() == 'true'\n",
        "\n",
        "print(f\"Integer value: {int_var} (type: {type(int_var)})\")\n",
        "print(f\"Float value: {float_var} (type: {type(float_var)})\")\n",
        "print(f\"String value: '{str_var}' (type: {type(str_var)})\")\n",
        "print(f\"Boolean value: {bool_var} (type: {type(bool_var)})\")\n"
      ],
      "metadata": {
        "colab": {
          "base_uri": "https://localhost:8080/"
        },
        "id": "Nq0XEbo4kcsr",
        "outputId": "2be51e59-4c75-4ed3-c194-53aac397f1da"
      },
      "execution_count": null,
      "outputs": [
        {
          "output_type": "stream",
          "name": "stdout",
          "text": [
            "Enter an integer: 3\n",
            "Enter a float: 1.2\n",
            "Enter a string: hello\n",
            "Enter a boolean (True/False): true\n",
            "Integer value: 3 (type: <class 'int'>)\n",
            "Float value: 1.2 (type: <class 'float'>)\n",
            "String value: 'hello' (type: <class 'str'>)\n",
            "Boolean value: True (type: <class 'bool'>)\n"
          ]
        }
      ]
    },
    {
      "cell_type": "code",
      "source": [
        "a = float(input(\"Enter side a: \"))\n",
        "b = float(input(\"Enter side b: \"))\n",
        "c = float(input(\"Enter side c: \"))\n",
        "\n",
        "s = (a + b + c) / 2\n",
        "area = (s * (s - a) * (s - b) * (s - c)) ** 0.5\n",
        "\n",
        "print(\"Area of the triangle is:\", area)\n"
      ],
      "metadata": {
        "colab": {
          "base_uri": "https://localhost:8080/"
        },
        "id": "Ng8KJE1Gkrt6",
        "outputId": "1b2c05fd-704c-4166-f15b-613234d41b90"
      },
      "execution_count": null,
      "outputs": [
        {
          "output_type": "stream",
          "name": "stdout",
          "text": [
            "Enter side a: 5\n",
            "Enter side b: 7\n",
            "Enter side c: 3\n",
            "Area of the triangle is: 6.49519052838329\n"
          ]
        }
      ]
    },
    {
      "cell_type": "code",
      "source": [
        "x1 = float(input(\"Enter x1: \"))\n",
        "y1 = float(input(\"Enter y1: \"))\n",
        "x2 = float(input(\"Enter x2: \"))\n",
        "y2 = float(input(\"Enter y2: \"))\n",
        "\n",
        "distance = ((x2 - x1)**2 + (y2 - y1)**2)**0.5\n",
        "\n",
        "print(\"Distance between the points is:\", distance)\n"
      ],
      "metadata": {
        "colab": {
          "base_uri": "https://localhost:8080/"
        },
        "id": "ZwIxD57Dk7WC",
        "outputId": "009e3322-01bd-4118-c22f-1635b72050b8"
      },
      "execution_count": null,
      "outputs": [
        {
          "output_type": "stream",
          "name": "stdout",
          "text": [
            "Enter x1: 5\n",
            "Enter y1: 3\n",
            "Enter x2: 4\n",
            "Enter y2: 5\n",
            "Distance between the points is: 2.23606797749979\n"
          ]
        }
      ]
    },
    {
      "cell_type": "code",
      "source": [
        "num = int(input(\"Enter a number: \"))\n",
        "ones_place = num % 10\n",
        "print(\"Digit at ones place:\", ones_place)\n"
      ],
      "metadata": {
        "colab": {
          "base_uri": "https://localhost:8080/"
        },
        "id": "EmwP7mLOlHK6",
        "outputId": "6426e22c-d80d-4f2d-f7e1-6c68d128aaa6"
      },
      "execution_count": null,
      "outputs": [
        {
          "output_type": "stream",
          "name": "stdout",
          "text": [
            "Enter a number: 12\n",
            "Digit at ones place: 2\n"
          ]
        }
      ]
    },
    {
      "cell_type": "code",
      "source": [
        "fahrenheit = float(input(\"Enter temperature in Fahrenheit: \"))\n",
        "celsius = (fahrenheit - 32) * 5 / 9\n",
        "print(\"Temperature in Celsius:\", celsius)\n"
      ],
      "metadata": {
        "colab": {
          "base_uri": "https://localhost:8080/"
        },
        "id": "355WOiFElkJc",
        "outputId": "0d2fffa2-6d8c-49b9-b973-f98eecf1d749"
      },
      "execution_count": null,
      "outputs": [
        {
          "output_type": "stream",
          "name": "stdout",
          "text": [
            "Enter temperature in Fahrenheit: 120\n",
            "Temperature in Celsius: 48.888888888888886\n"
          ]
        }
      ]
    },
    {
      "cell_type": "code",
      "source": [
        "exam1 = float(input(\"Enter marks for Exam 1: \"))\n",
        "exam2 = float(input(\"Enter marks for Exam 2: \"))\n",
        "sports = float(input(\"Enter marks for Sports event: \"))\n",
        "activity1 = float(input(\"Enter marks for Activity 1: \"))\n",
        "activity2 = float(input(\"Enter marks for Activity 2: \"))\n",
        "activity3 = float(input(\"Enter marks for Activity 3: \"))\n",
        "\n",
        "exam_avg = (exam1 + exam2) / 2\n",
        "activity_avg = (activity1 + activity2 + activity3) / 3\n",
        "\n",
        "final_result = exam_avg * 0.50 + sports * 0.20 + activity_avg * 0.30\n",
        "\n",
        "print(\"Final result (out of 100):\", final_result)\n"
      ],
      "metadata": {
        "colab": {
          "base_uri": "https://localhost:8080/"
        },
        "id": "R3Tg6_nXlm9i",
        "outputId": "0789614e-008c-412f-93d4-3960ccd56a4f"
      },
      "execution_count": null,
      "outputs": [
        {
          "output_type": "stream",
          "name": "stdout",
          "text": [
            "Enter marks for Exam 1: 30\n",
            "Enter marks for Exam 2: 90\n",
            "Enter marks for Sports event: 5\n",
            "Enter marks for Activity 1: 60\n",
            "Enter marks for Activity 2: 80\n",
            "Enter marks for Activity 3: 90\n",
            "Final result (out of 100): 54.0\n"
          ]
        }
      ]
    },
    {
      "cell_type": "code",
      "source": [
        "n=int(input(\"enter no of rows\"))\n",
        "\n",
        "for i in range(1,n+1):\n",
        "    for j in range(1,i+1):\n",
        "        print(\"*\", end=\"\")\n",
        "    print()"
      ],
      "metadata": {
        "colab": {
          "base_uri": "https://localhost:8080/"
        },
        "id": "Y43uBkbUSsQ8",
        "outputId": "e3243ede-0531-422b-cbb7-b47d437115f8"
      },
      "execution_count": null,
      "outputs": [
        {
          "output_type": "stream",
          "name": "stdout",
          "text": [
            "enter no of rows5\n",
            "*\n",
            "**\n",
            "***\n",
            "****\n",
            "*****\n"
          ]
        }
      ]
    },
    {
      "cell_type": "code",
      "source": [
        "rows=int(input(\"enter no of rows\"))\n",
        "\n",
        "for i in range(1,rows+1):\n",
        "    for j in range(1,i+1):\n",
        "        print(j , end=\"\")\n",
        "    print()"
      ],
      "metadata": {
        "colab": {
          "base_uri": "https://localhost:8080/"
        },
        "id": "kN55aYHrS0zc",
        "outputId": "5d441a90-885e-4b3b-8460-df6d9ea179d7"
      },
      "execution_count": null,
      "outputs": [
        {
          "output_type": "stream",
          "name": "stdout",
          "text": [
            "enter no of rows4\n",
            "1\n",
            "12\n",
            "123\n",
            "1234\n"
          ]
        }
      ]
    },
    {
      "cell_type": "code",
      "source": [
        "rows=int(input(\"enter no of rows\"))\n",
        "count=1\n",
        "for i in range(1,rows+1):\n",
        "    for j in range(i):\n",
        "        print(count , end=\"\")\n",
        "        count+=1\n",
        "    print()"
      ],
      "metadata": {
        "colab": {
          "base_uri": "https://localhost:8080/"
        },
        "id": "9LHN6G0nS6Rs",
        "outputId": "6e02791d-ebc7-46db-cc34-12b8b2cd5a0d"
      },
      "execution_count": null,
      "outputs": [
        {
          "output_type": "stream",
          "name": "stdout",
          "text": [
            "enter no of rows4\n",
            "1\n",
            "23\n",
            "456\n",
            "78910\n"
          ]
        }
      ]
    },
    {
      "cell_type": "code",
      "source": [
        "n = 5\n",
        "\n",
        "for i in range(n):\n",
        "    print('*' * (n - i))\n"
      ],
      "metadata": {
        "colab": {
          "base_uri": "https://localhost:8080/"
        },
        "id": "nhfA3n6DS9W8",
        "outputId": "c6f551c4-d5a7-4b75-c00f-021171d2c44a"
      },
      "execution_count": null,
      "outputs": [
        {
          "output_type": "stream",
          "name": "stdout",
          "text": [
            "*****\n",
            "****\n",
            "***\n",
            "**\n",
            "*\n"
          ]
        }
      ]
    },
    {
      "cell_type": "code",
      "source": [
        "n = int(input(\"Enter the number of terms: \"))\n",
        "\n",
        "a, b = 0, 1\n",
        "\n",
        "if n <= 0:\n",
        "    print(\"Please enter a positive integer\")\n",
        "elif n == 1:\n",
        "    print(\"Fibonacci series:\", a)\n",
        "else:\n",
        "    print(\"Fibonacci series:\", end=\" \")\n",
        "    for i in range(n):\n",
        "        print(a, end=\" \")\n",
        "        a, b = b, a + b\n"
      ],
      "metadata": {
        "colab": {
          "base_uri": "https://localhost:8080/"
        },
        "id": "ADriMwklCbZY",
        "outputId": "e24429e1-bc6a-4eae-ee80-5cd8d1a9d326"
      },
      "execution_count": null,
      "outputs": [
        {
          "output_type": "stream",
          "name": "stdout",
          "text": [
            "Enter the number of terms: 6\n",
            "Fibonacci series: 0 1 1 2 3 5 "
          ]
        }
      ]
    },
    {
      "cell_type": "code",
      "source": [
        "num = int(input(\"Enter a number: \"))\n",
        "\n",
        "rev = 0\n",
        "while num > 0:\n",
        "    digit = num % 10\n",
        "    rev = rev * 10 + digit\n",
        "    num //= 10\n",
        "\n",
        "print(\"Reversed number:\", rev)\n"
      ],
      "metadata": {
        "colab": {
          "base_uri": "https://localhost:8080/"
        },
        "id": "Lin01rLGE3k2",
        "outputId": "e5d6731c-0435-4734-e81c-c2b52e17c666"
      },
      "execution_count": null,
      "outputs": [
        {
          "output_type": "stream",
          "name": "stdout",
          "text": [
            "Enter a number: 234567\n",
            "Reversed number: 765432\n"
          ]
        }
      ]
    },
    {
      "cell_type": "code",
      "source": [
        "num = int(input(\"Enter a number: \"))\n",
        "count = 0\n",
        "if num == 0:\n",
        "    count = 1\n",
        "else:\n",
        "    while num > 0:\n",
        "        num //= 10\n",
        "        count += 1\n",
        "print(\"Number of digits:\", count)"
      ],
      "metadata": {
        "colab": {
          "base_uri": "https://localhost:8080/"
        },
        "id": "SSqJRfLHFNp9",
        "outputId": "d805c6de-c57d-4c8c-a34b-eacdffaec223"
      },
      "execution_count": null,
      "outputs": [
        {
          "output_type": "stream",
          "name": "stdout",
          "text": [
            "Enter a number: 34789\n",
            "Number of digits: 5\n"
          ]
        }
      ]
    },
    {
      "cell_type": "code",
      "source": [
        "year = int(input(\"Enter a year: \"))\n",
        "\n",
        "if (year % 400 == 0) or (year % 4 == 0 and year % 100 != 0):\n",
        "    print(year, \"is a Leap Year\")\n",
        "else:\n",
        "    print(year, \"is Not a Leap Year\")\n"
      ],
      "metadata": {
        "id": "fLYdZ-QjFdO4",
        "colab": {
          "base_uri": "https://localhost:8080/"
        },
        "outputId": "ea5b7537-2e4a-4f5e-b9f6-059ceac35d91"
      },
      "execution_count": null,
      "outputs": [
        {
          "output_type": "stream",
          "name": "stdout",
          "text": [
            "Enter a year: 2023\n",
            "2023 is Not a Leap Year\n"
          ]
        }
      ]
    },
    {
      "cell_type": "code",
      "source": [
        "num = int(input(\"Enter a number: \"))\n",
        "s = 0\n",
        "while num > 0:\n",
        "    s += num % 10\n",
        "    num //= 10\n",
        "print(\"Sum of digits:\", s)\n"
      ],
      "metadata": {
        "colab": {
          "base_uri": "https://localhost:8080/"
        },
        "id": "sz_6uglMFzkE",
        "outputId": "7edba1e3-8c9c-4f06-b688-2f91e8aab439"
      },
      "execution_count": null,
      "outputs": [
        {
          "output_type": "stream",
          "name": "stdout",
          "text": [
            "Enter a number: 2356\n",
            "Sum of digits: 16\n"
          ]
        }
      ]
    },
    {
      "cell_type": "code",
      "source": [
        "num = int(input(\"Enter a number: \"))\n",
        "rev = 0\n",
        "temp = num\n",
        "\n",
        "while temp > 0:\n",
        "    digit = temp % 10\n",
        "    rev = rev * 10 + digit\n",
        "    temp= 10\n",
        "\n",
        "if num == rev:\n",
        "    print(\"Palindrome Number\")\n",
        "else:\n",
        "    print(\"Not a Palindrome Number\")\n"
      ],
      "metadata": {
        "id": "SxdSk0BNGAli"
      },
      "execution_count": null,
      "outputs": []
    },
    {
      "cell_type": "code",
      "source": [
        "num = int(input(\"Enter a number: \"))\n",
        "sum = 0\n",
        "temp = num\n",
        "n = len(str(num))\n",
        "\n",
        "while temp > 0:\n",
        "    digit = temp % 10\n",
        "    sum += digit ** n\n",
        "    temp //= 10\n",
        "\n",
        "if num == sum:\n",
        "    print(\"Armstrong Number\")\n",
        "else:\n",
        "    print(\"Not an Armstrong Number\")\n"
      ],
      "metadata": {
        "id": "EGOn42V0GjEv"
      },
      "execution_count": null,
      "outputs": []
    },
    {
      "cell_type": "code",
      "source": [
        "\n",
        "my_list = [5, 3, 8, 6, 3, 2]\n",
        "print(\"Original list:\", my_list)\n",
        "\n",
        "\n",
        "length = len(my_list)\n",
        "print(\"Length of list:\", length)\n",
        "\n",
        "\n",
        "print(\"Element at index 2:\", my_list[2])\n",
        "print(\"Slice from index 1 to 4:\", my_list[1:5])\n",
        "\n",
        "\n",
        "my_list.append(10)\n",
        "print(\"After append 10:\", my_list)\n",
        "\n",
        "\n",
        "my_list.insert(2, 15)\n",
        "print(\"After inserting 15 at index 2:\", my_list)\n",
        "\n",
        "\n",
        "my_list.remove(3)\n",
        "print(\"After removing first occurrence of 3:\", my_list)\n",
        "\n",
        "\n",
        "my_list.sort()\n",
        "print(\"Sorted ascending:\", my_list)\n",
        "my_list.sort(reverse=True)\n",
        "print(\"Sorted descending:\", my_list)\n",
        "\n",
        "\n",
        "max_element = max(my_list)\n",
        "min_element = min(my_list)\n",
        "print(\"Maximum element:\", max_element)\n",
        "print(\"Minimum element:\", min_element)\n",
        "\n",
        "\n",
        "total = sum(my_list)\n",
        "print(\"Sum of all elements:\", total)\n",
        "\n",
        "\n",
        "my_list.reverse()\n",
        "print(\"Reversed list:\", my_list)\n",
        "\n",
        "\n",
        "count_3 = my_list.count(3)\n",
        "print(\"Occurrences of 3:\", count_3)\n",
        "\n",
        "\n",
        "exists_8 = 8 in my_list\n",
        "print(\"Does 8 exist in list?\", exists_8)\n",
        "\n",
        "\n",
        "my_set = set(my_list)\n",
        "print(\"Set (duplicates removed):\", my_set)\n",
        "\n",
        "\n",
        "new_list = my_list.copy()\n",
        "print(\"Copied list:\", new_list)\n",
        "\n",
        "\n",
        "another_list = [20, 30, 40]\n",
        "merged_list = my_list + another_list\n",
        "print(\"Merged list:\", merged_list)\n"
      ],
      "metadata": {
        "colab": {
          "base_uri": "https://localhost:8080/"
        },
        "id": "z1FL2se5iqot",
        "outputId": "fdc75478-cfd2-47e8-db3f-04021a8afaaa"
      },
      "execution_count": null,
      "outputs": [
        {
          "output_type": "stream",
          "name": "stdout",
          "text": [
            "Original list: [5, 3, 8, 6, 3, 2]\n",
            "Length of list: 6\n",
            "Element at index 2: 8\n",
            "Slice from index 1 to 4: [3, 8, 6, 3]\n",
            "After append 10: [5, 3, 8, 6, 3, 2, 10]\n",
            "After inserting 15 at index 2: [5, 3, 15, 8, 6, 3, 2, 10]\n",
            "After removing first occurrence of 3: [5, 15, 8, 6, 3, 2, 10]\n",
            "Sorted ascending: [2, 3, 5, 6, 8, 10, 15]\n",
            "Sorted descending: [15, 10, 8, 6, 5, 3, 2]\n",
            "Maximum element: 15\n",
            "Minimum element: 2\n",
            "Sum of all elements: 49\n",
            "Reversed list: [2, 3, 5, 6, 8, 10, 15]\n",
            "Occurrences of 3: 1\n",
            "Does 8 exist in list? True\n",
            "Set (duplicates removed): {2, 3, 5, 6, 8, 10, 15}\n",
            "Copied list: [2, 3, 5, 6, 8, 10, 15]\n",
            "Merged list: [2, 3, 5, 6, 8, 10, 15, 20, 30, 40]\n"
          ]
        }
      ]
    },
    {
      "cell_type": "code",
      "source": [
        "my_tuple = (10, 20, 30, 40, 50)\n",
        "print(\"Tuple:\", my_tuple)\n",
        "\n",
        "\n",
        "print(\"First element:\", my_tuple[0])\n",
        "print(\"Last element:\", my_tuple[-1])\n",
        "print(\"Slice [1:4]:\", my_tuple[1:4])\n",
        "\n",
        "\n",
        "print(\"Length of tuple:\", len(my_tuple))\n",
        "\n",
        "\n",
        "print(\"Is 30 in tuple?\", 30 in my_tuple)\n",
        "print(\"Is 100 in tuple?\", 100 in my_tuple)\n",
        "\n",
        "\n",
        "tuple1 = (1, 2, 3)\n",
        "tuple2 = (4, 5, 6)\n",
        "combined = tuple1 + tuple2\n",
        "print(\"Concatenated tuple:\", combined)\n",
        "\n",
        "\n",
        "repeated = tuple1 * 3\n",
        "print(\"Repeated tuple:\", repeated)\n",
        "\n",
        "\n",
        "my_list = [7, 8, 9]\n",
        "converted_tuple = tuple(my_list)\n",
        "print(\"Converted from list:\", converted_tuple)\n",
        "\n",
        "\n",
        "a, b, c = converted_tuple\n",
        "print(\"Unpacked values:\", a, b, c)\n",
        "\n",
        "\n",
        "x = 5\n",
        "y = 10\n",
        "x, y = y, x\n",
        "print(\"Swapped values: x =\", x, \", y =\", y)\n",
        "\n",
        "\n",
        "numbers = (4, 1, 7, 3, 9)\n",
        "print(\"Sum:\", sum(numbers))\n",
        "print(\"Min:\", min(numbers))\n",
        "print(\"Max:\", max(numbers))\n"
      ],
      "metadata": {
        "colab": {
          "base_uri": "https://localhost:8080/"
        },
        "id": "zDWBvELoTq51",
        "outputId": "60f2d9c4-4bdb-4b07-8782-bb4b02126574"
      },
      "execution_count": null,
      "outputs": [
        {
          "output_type": "stream",
          "name": "stdout",
          "text": [
            "Tuple: (10, 20, 30, 40, 50)\n",
            "First element: 10\n",
            "Last element: 50\n",
            "Slice [1:4]: (20, 30, 40)\n",
            "Length of tuple: 5\n",
            "Is 30 in tuple? True\n",
            "Is 100 in tuple? False\n",
            "Concatenated tuple: (1, 2, 3, 4, 5, 6)\n",
            "Repeated tuple: (1, 2, 3, 1, 2, 3, 1, 2, 3)\n",
            "Converted from list: (7, 8, 9)\n",
            "Unpacked values: 7 8 9\n",
            "Swapped values: x = 10 , y = 5\n",
            "Sum: 24\n",
            "Min: 1\n",
            "Max: 9\n"
          ]
        }
      ]
    },
    {
      "cell_type": "code",
      "source": [
        "t = (1, 2, 3, 2, 4, 1)\n",
        "t1 = (1, 2, 3)\n",
        "t2 = (4, 5, 6)\n",
        "tuple_of_tuples = (('a', 1), ('b', 2))\n",
        "palindrome_tuple = (1, 2, 3, 2, 1)\n",
        "\n",
        "print(\"1. Count occurrences of 2:\", t.count(2))\n",
        "\n",
        "print(\"2. Index of 3 in t:\", t.index(3))\n",
        "\n",
        "asc = tuple(sorted(t))\n",
        "desc = tuple(sorted(t, reverse=True))\n",
        "print(\"3. Sorted ascending:\", asc)\n",
        "print(\"   Sorted descending:\", desc)\n",
        "\n",
        "\n",
        "d = dict(tuple_of_tuples)\n",
        "print(\"4. Tuple of tuples to dictionary:\", d)\n",
        "\n",
        "\n",
        "duplicates = set(x for x in t if t.count(x) > 1)\n",
        "print(\"5. Duplicate elements:\", duplicates)\n",
        "\n",
        "\n",
        "print(\"6. Are t1 and t2 equal?:\", t1 == t2)\n",
        "\n",
        "\n",
        "unique = tuple(set(t))\n",
        "print(\"7. Tuple without duplicates:\", unique)\n",
        "\n",
        "\n",
        "merged = t1 + t2 + (7, 8)\n",
        "print(\"8. Merged tuple:\", merged)\n",
        "\n",
        "\n",
        "sum_tuple = tuple(a + b for a, b in zip(t1, t2))\n",
        "print(\"9. Element-wise sum:\", sum_tuple)\n",
        "\n",
        "\n",
        "print(\"10. Is palindrome_tuple a palindrome?:\", palindrome_tuple == palindrome_tuple[::-1])\n"
      ],
      "metadata": {
        "colab": {
          "base_uri": "https://localhost:8080/"
        },
        "id": "a_tAOaiPVCye",
        "outputId": "6e38f770-1d56-4d67-8257-9b93768f54cd"
      },
      "execution_count": null,
      "outputs": [
        {
          "output_type": "stream",
          "name": "stdout",
          "text": [
            "1. Count occurrences of 2: 2\n",
            "2. Index of 3 in t: 2\n",
            "3. Sorted ascending: (1, 1, 2, 2, 3, 4)\n",
            "   Sorted descending: (4, 3, 2, 2, 1, 1)\n",
            "4. Tuple of tuples to dictionary: {'a': 1, 'b': 2}\n",
            "5. Duplicate elements: {1, 2}\n",
            "6. Are t1 and t2 equal?: False\n",
            "7. Tuple without duplicates: (1, 2, 3, 4)\n",
            "8. Merged tuple: (1, 2, 3, 4, 5, 6, 7, 8)\n",
            "9. Element-wise sum: (5, 7, 9)\n",
            "10. Is palindrome_tuple a palindrome?: True\n"
          ]
        }
      ]
    },
    {
      "cell_type": "code",
      "source": [
        "investment = float(input(\"Enter initial investment: \"))\n",
        "rate = float(input(\"Enter annual interest rate (%): \"))\n",
        "years = int(input(\"Enter number of years: \"))\n",
        "\n",
        "for i in range(1, years + 1):\n",
        "    investment = investment + (investment * rate / 100)\n",
        "    print(\"Year\", i, \":\", investment)\n"
      ],
      "metadata": {
        "colab": {
          "base_uri": "https://localhost:8080/"
        },
        "id": "5FY5dLJIu9DC",
        "outputId": "880f1f23-1f9b-4df9-de57-a533a18f9ffb"
      },
      "execution_count": null,
      "outputs": [
        {
          "output_type": "stream",
          "name": "stdout",
          "text": [
            "Enter initial investment: 30000\n",
            "Enter annual interest rate (%): 5\n",
            "Enter number of years: 4\n",
            "Year 1 : 31500.0\n",
            "Year 2 : 33075.0\n",
            "Year 3 : 34728.75\n",
            "Year 4 : 36465.1875\n"
          ]
        }
      ]
    },
    {
      "cell_type": "code",
      "source": [
        "string = input(\"Enter a string: \")\n",
        "char = input(\"Enter the character to count: \")\n",
        "\n",
        "count = 0\n",
        "for c in string:\n",
        "    if c == char:\n",
        "        count += 1\n",
        "\n",
        "print(f\"The character '{char}' occurs {count} times in the string.\")\n"
      ],
      "metadata": {
        "colab": {
          "base_uri": "https://localhost:8080/"
        },
        "id": "36Lw4YLzzrcb",
        "outputId": "f777e0b7-6122-44f7-9816-cd99e6fc4311"
      },
      "execution_count": null,
      "outputs": [
        {
          "output_type": "stream",
          "name": "stdout",
          "text": [
            "Enter a string: hello\n",
            "Enter the character to count: l\n",
            "The character 'l' occurs 2 times in the string.\n"
          ]
        }
      ]
    },
    {
      "cell_type": "code",
      "source": [],
      "metadata": {
        "id": "M6lHuAQ259b6"
      },
      "execution_count": null,
      "outputs": []
    },
    {
      "cell_type": "code",
      "source": [
        "string = input(\"Enter a string: \")\n",
        "\n",
        "vowels = \"aeiouAEIOU\"\n",
        "result = \"\"\n",
        "\n",
        "for ch in string:\n",
        "    if ch not in vowels:\n",
        "        result += ch\n",
        "\n",
        "print(\"String after removing vowels:\", result)\n"
      ],
      "metadata": {
        "colab": {
          "base_uri": "https://localhost:8080/"
        },
        "id": "aW80A83Az7nf",
        "outputId": "e3064b6a-c4e7-47da-8981-61d7ebe72570"
      },
      "execution_count": null,
      "outputs": [
        {
          "output_type": "stream",
          "name": "stdout",
          "text": [
            "Enter a string: hello world\n",
            "String after removing vowels: hll wrld\n"
          ]
        }
      ]
    },
    {
      "cell_type": "code",
      "source": [
        "students = {}\n",
        "\n",
        "def add_student():\n",
        "    name = input(\"Enter Student Name: \").strip().title()\n",
        "    courses = input(\"Enter courses (comma separated): \").split(\",\")\n",
        "    students[name] = set(c.strip().title() for c in courses)\n",
        "    print(\"Student added!\")\n",
        "\n",
        "def show_students():\n",
        "    if not students:\n",
        "        print(\"No students yet!\")\n",
        "    else:\n",
        "        for name, courses in students.items():\n",
        "            print(name, \":\", courses)\n",
        "\n",
        "def students_in(course):\n",
        "    return {name for name, c in students.items() if course in c}\n",
        "\n",
        "while True:\n",
        "    print(\"\\n=== STUDENT COURSE MANAGEMENT ===\")\n",
        "    print(\"1. Add Student\")\n",
        "    print(\"2. Show Students\")\n",
        "    print(\"3. Students in BOTH courses\")\n",
        "    print(\"4. Students in EITHER course\")\n",
        "    print(\"5. Students in 1st but NOT 2nd\")\n",
        "    print(\"6. Students in 2nd but NOT 1st\")\n",
        "    print(\"7. Students ONLY in one course\")\n",
        "    print(\"8. Subset check\")\n",
        "    print(\"9. Superset check\")\n",
        "    print(\"10. Disjoint check\")\n",
        "    print(\"11. Exit\")\n",
        "\n",
        "    ch = input(\"Enter choice: \")\n",
        "\n",
        "    if ch == \"1\":\n",
        "        add_student()\n",
        "\n",
        "    elif ch == \"2\":\n",
        "        show_students()\n",
        "\n",
        "    elif ch in [\"3\",\"4\",\"5\",\"6\",\"7\",\"8\",\"9\",\"10\"]:\n",
        "        c1 = input(\"Enter first course: \").title()\n",
        "        c2 = input(\"Enter second course: \").title()\n",
        "        s1, s2 = students_in(c1), students_in(c2)\n",
        "\n",
        "        if ch == \"3\": print(\"BOTH:\", s1 & s2)\n",
        "        elif ch == \"4\": print(\"EITHER:\", s1 | s2)\n",
        "        elif ch == \"5\": print(f\"{c1} NOT {c2}:\", s1 - s2)\n",
        "        elif ch == \"6\": print(f\"{c2} NOT {c1}:\", s2 - s1)\n",
        "        elif ch == \"7\": print(\"ONLY one course:\", s1 ^ s2)\n",
        "        elif ch == \"8\": print(f\"{c1} ⊆ {c2}:\", s1.issubset(s2))\n",
        "        elif ch == \"9\": print(f\"{c1} ⊇ {c2}:\", s1.issuperset(s2))\n",
        "        elif ch == \"10\": print(\"Disjoint:\", s1.isdisjoint(s2))\n",
        "\n",
        "    elif ch == \"11\":\n",
        "        print(\"Exiting...\")\n",
        "        break\n",
        "    else:\n",
        "        print(\"Invalid choice!\")\n"
      ],
      "metadata": {
        "colab": {
          "base_uri": "https://localhost:8080/"
        },
        "id": "s4KXpdBUxUu2",
        "outputId": "348ae48a-e112-4a5f-ec18-7f9436bdf384"
      },
      "execution_count": null,
      "outputs": [
        {
          "metadata": {
            "tags": null
          },
          "name": "stdout",
          "output_type": "stream",
          "text": [
            "\n",
            "=== STUDENT COURSE MANAGEMENT ===\n",
            "1. Add Student\n",
            "2. Show Students\n",
            "3. Students in BOTH courses\n",
            "4. Students in EITHER course\n",
            "5. Students in 1st but NOT 2nd\n",
            "6. Students in 2nd but NOT 1st\n",
            "7. Students ONLY in one course\n",
            "8. Subset check\n",
            "9. Superset check\n",
            "10. Disjoint check\n",
            "11. Exit\n"
          ]
        }
      ]
    }
  ]
}